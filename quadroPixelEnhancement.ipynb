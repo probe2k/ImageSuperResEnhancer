{
 "cells": [
  {
   "cell_type": "code",
   "execution_count": 1,
   "metadata": {},
   "outputs": [],
   "source": [
    "import os\n",
    "import re\n",
    "import numpy as np\n",
    "from skimage.transform import resize, rescale\n",
    "from scipy import ndimage, misc\n",
    "from matplotlib import pyplot\n",
    "import matplotlib.pyplot as plt\n",
    "np.random.seed(0)"
   ]
  },
  {
   "cell_type": "code",
   "execution_count": 2,
   "metadata": {
    "tags": []
   },
   "outputs": [
    {
     "output_type": "stream",
     "name": "stdout",
     "text": "2.1.0\n"
    }
   ],
   "source": [
    "from tensorflow.keras.layers import Conv2D, Dense, Input, MaxPooling2D, Dropout\n",
    "from tensorflow.keras.layers import Conv2DTranspose, UpSampling2D, add\n",
    "from tensorflow.keras.models import Model\n",
    "from tensorflow.keras import regularizers\n",
    "import tensorflow as tf\n",
    "print(tf.__version__)"
   ]
  },
  {
   "cell_type": "code",
   "execution_count": 17,
   "metadata": {},
   "outputs": [],
   "source": [
    "# Enc schema mapping\n",
    "input_data = Input(shape=(256, 256, 3))\n",
    "enc_l1 = Conv2D(32, (3, 3), padding='same', activation='relu', activity_regularizer=regularizers.l1(10e-10))(input_data)\n",
    "enc_l2 = Conv2D(32, (3, 3), padding='same', activation='relu', activity_regularizer=regularizers.l1(10e-10))(enc_l1)\n",
    "\n",
    "# 2x downSample\n",
    "enc_l3 = MaxPooling2D(padding='same')(enc_l2)\n",
    "enc_l4 = Conv2D(96, (3, 3), padding='same', activation='relu', activity_regularizer=regularizers.l1(10e-10))(enc_l3)\n",
    "enc_l5 = Conv2D(96, (3, 3), padding='same', activation='relu', activity_regularizer=regularizers.l1(10e-10))(enc_l4)\n",
    "enc_l6 = MaxPooling2D(padding='same')(enc_l5)\n",
    "enc_l7 = Conv2D(152, (3, 3), padding='same', activation='relu', activity_regularizer=regularizers.l1(10e-10))(enc_l6)\n",
    "encData = Model(input_data, enc_l7)"
   ]
  },
  {
   "cell_type": "code",
   "execution_count": 5,
   "metadata": {},
   "outputs": [],
   "source": [
    "# Alternatively, MaxPooling2D can be redef for verbosity as :\n",
    "# def max_pool_2x2(x):\n",
    "#   return tf.nn.max_pool(x, ksize=[1, 2, 2, 1], strides=[1, 2, 2, 1], padding='SAME')"
   ]
  },
  {
   "cell_type": "code",
   "execution_count": 8,
   "metadata": {},
   "outputs": [],
   "source": [
    "# Similarly, conv2D call can be redef for verbosity as :\n",
    "# def conv2D(x, W):\n",
    "#   return tf.nn.conv2d(x, W, strides=[1, 2, 2, 1], padding='SAME')"
   ]
  },
  {
   "cell_type": "code",
   "execution_count": 15,
   "metadata": {
    "tags": []
   },
   "outputs": [
    {
     "output_type": "stream",
     "name": "stdout",
     "text": "Model: \"model_2\"\n_________________________________________________________________\nLayer (type)                 Output Shape              Param #   \n=================================================================\ninput_6 (InputLayer)         [(None, 256, 256, 3)]     0         \n_________________________________________________________________\nconv2d_17 (Conv2D)           (None, 256, 256, 32)      896       \n_________________________________________________________________\nconv2d_18 (Conv2D)           (None, 256, 256, 32)      9248      \n_________________________________________________________________\nmax_pooling2d_6 (MaxPooling2 (None, 128, 128, 32)      0         \n_________________________________________________________________\nconv2d_19 (Conv2D)           (None, 128, 128, 96)      27744     \n_________________________________________________________________\nconv2d_20 (Conv2D)           (None, 128, 128, 96)      83040     \n_________________________________________________________________\nmax_pooling2d_7 (MaxPooling2 (None, 64, 64, 96)        0         \n_________________________________________________________________\nconv2d_21 (Conv2D)           (None, 64, 64, 152)       131480    \n=================================================================\nTotal params: 252,408\nTrainable params: 252,408\nNon-trainable params: 0\n_________________________________________________________________\n"
    }
   ],
   "source": [
    "encData.summary()"
   ]
  },
  {
   "cell_type": "code",
   "execution_count": 16,
   "metadata": {},
   "outputs": [],
   "source": [
    "# Decoder def\n",
    "# - upsample encData\n",
    "# - def merger\n",
    "# - add residual/skip connections\n",
    "# - reverse add gate from specific sample media of encoder schema"
   ]
  },
  {
   "cell_type": "code",
   "execution_count": 26,
   "metadata": {},
   "outputs": [],
   "source": [
    "# Decoder schema with leading 96 sampling color depth\n",
    "dec_l8 = UpSampling2D()(enc_l7)      # 2x upsample\n",
    "dec_l9 = Conv2D(96, (3, 3), padding='same', activation='relu', activity_regularizer=regularizers.l1(10e-10))(dec_l8)\n",
    "dec_l10 = Conv2D(96, (3, 3), padding='same', activation='relu', activity_regularizer=regularizers.l1(10e-10))(dec_l9)\n",
    "dec_l11 = add([enc_l5, dec_l10])\n",
    "dec_l12 = UpSampling2D()(dec_l11)\n",
    "dec_l13 = Conv2D(32, (3, 3), padding='same', activation='relu', activity_regularizer=regularizers.l1(10e-10))(dec_l12)\n",
    "dec_l14 = Conv2D(32, (3, 3), padding='same', activation='relu', activity_regularizer=regularizers.l1(10e-10))(dec_l13)\n",
    "dec_l15 = add([enc_l2, dec_l14])\n",
    "dec_l16 = Conv2D(3, (3, 3), padding='same', activation='relu', activity_regularizer=regularizers.l1(10e-10))(dec_l15)\n",
    "decData = Model(input_data, dec_l16)"
   ]
  },
  {
   "cell_type": "code",
   "execution_count": 27,
   "metadata": {
    "tags": []
   },
   "outputs": [
    {
     "output_type": "stream",
     "name": "stdout",
     "text": "Model: \"model_5\"\n__________________________________________________________________________________________________\nLayer (type)                    Output Shape         Param #     Connected to                     \n==================================================================================================\ninput_7 (InputLayer)            [(None, 256, 256, 3) 0                                            \n__________________________________________________________________________________________________\nconv2d_22 (Conv2D)              (None, 256, 256, 32) 896         input_7[0][0]                    \n__________________________________________________________________________________________________\nconv2d_23 (Conv2D)              (None, 256, 256, 32) 9248        conv2d_22[0][0]                  \n__________________________________________________________________________________________________\nmax_pooling2d_8 (MaxPooling2D)  (None, 128, 128, 32) 0           conv2d_23[0][0]                  \n__________________________________________________________________________________________________\nconv2d_24 (Conv2D)              (None, 128, 128, 96) 27744       max_pooling2d_8[0][0]            \n__________________________________________________________________________________________________\nconv2d_25 (Conv2D)              (None, 128, 128, 96) 83040       conv2d_24[0][0]                  \n__________________________________________________________________________________________________\nmax_pooling2d_9 (MaxPooling2D)  (None, 64, 64, 96)   0           conv2d_25[0][0]                  \n__________________________________________________________________________________________________\nconv2d_26 (Conv2D)              (None, 64, 64, 152)  131480      max_pooling2d_9[0][0]            \n__________________________________________________________________________________________________\nup_sampling2d_12 (UpSampling2D) (None, 128, 128, 152 0           conv2d_26[0][0]                  \n__________________________________________________________________________________________________\nconv2d_54 (Conv2D)              (None, 128, 128, 96) 131424      up_sampling2d_12[0][0]           \n__________________________________________________________________________________________________\nconv2d_55 (Conv2D)              (None, 128, 128, 96) 83040       conv2d_54[0][0]                  \n__________________________________________________________________________________________________\nadd_12 (Add)                    (None, 128, 128, 96) 0           conv2d_25[0][0]                  \n                                                                 conv2d_55[0][0]                  \n__________________________________________________________________________________________________\nup_sampling2d_13 (UpSampling2D) (None, 256, 256, 96) 0           add_12[0][0]                     \n__________________________________________________________________________________________________\nconv2d_56 (Conv2D)              (None, 256, 256, 32) 27680       up_sampling2d_13[0][0]           \n__________________________________________________________________________________________________\nconv2d_57 (Conv2D)              (None, 256, 256, 32) 9248        conv2d_56[0][0]                  \n__________________________________________________________________________________________________\nadd_13 (Add)                    (None, 256, 256, 32) 0           conv2d_23[0][0]                  \n                                                                 conv2d_57[0][0]                  \n__________________________________________________________________________________________________\nconv2d_58 (Conv2D)              (None, 256, 256, 3)  867         add_13[0][0]                     \n==================================================================================================\nTotal params: 504,667\nTrainable params: 504,667\nNon-trainable params: 0\n__________________________________________________________________________________________________\n"
    }
   ],
   "source": [
    "decData.summary()"
   ]
  },
  {
   "cell_type": "code",
   "execution_count": 31,
   "metadata": {},
   "outputs": [],
   "source": [
    "decData.compile(optimizer='adam', loss='mean_squared_error')"
   ]
  },
  {
   "cell_type": "code",
   "execution_count": 45,
   "metadata": {},
   "outputs": [],
   "source": [
    "def train_batches(just_load_dataset=False):\n",
    "    batches = 256\n",
    "    batch = 0\n",
    "    batch_index = 0\n",
    "\n",
    "    max_batches = -1\n",
    "    epoch = 10\n",
    "    images = []\n",
    "    x_train_n = []\n",
    "    x_train_down = []\n",
    "    \n",
    "    x_train_n2 = []\n",
    "    x_train_down2 = []\n",
    "\n",
    "    for root, dirs, files in os.walk(\"/home/probe/ImageSuperResEnhancer/training_data\"):\n",
    "        for filename in files:\n",
    "            if re.search(\".\\(jpeg|jpg|JPEG|png\\)$\", filename):\n",
    "                if batch_index == max_batches:\n",
    "                    return x_train_n2, x_train_down2\n",
    "                fpath = os.path.join(root, filename)\n",
    "                image = pyplot.imread(fpath)\n",
    "                if len(image.shape) > 2:\n",
    "                    downscaled_img = resize(image, (256, 256))\n",
    "                    x_train_n.append(downscaled_img)\n",
    "                    x_train_down.append(rescale(rescale(downscaled_img, 0.5), 2.0))\n",
    "                    batch += 1\n",
    "                    if batch == batches:\n",
    "                        batch_index += 1\n",
    "                        \n",
    "                        x_train_n2 = np.array(x_train_n)\n",
    "                        x_train_down2 = np.array(x_train_down)\n",
    "\n",
    "                        if just_load_dataset:\n",
    "                            return x_train_n2, x_train_down2\n",
    "                        print('Training batch : ', batch_nb, '(', batches, ')')\n",
    "\n",
    "                        decData.fit(x_train_down2, x_train_n2, epochs=epoch, batch_size=20, shuffle=True, validation_split=0.10)\n",
    "\n",
    "                        x_train_n = []\n",
    "                        x_train_down = []\n",
    "\n",
    "                        batch = 0\n",
    "    return x_train_n2, x_train_down2"
   ]
  },
  {
   "cell_type": "code",
   "execution_count": 47,
   "metadata": {},
   "outputs": [],
   "source": [
    "x_train_n, x_train_down = train_batches(just_load_dataset=False)"
   ]
  },
  {
   "cell_type": "code",
   "execution_count": null,
   "metadata": {},
   "outputs": [],
   "source": []
  }
 ],
 "metadata": {
  "language_info": {
   "codemirror_mode": {
    "name": "ipython",
    "version": 3
   },
   "file_extension": ".py",
   "mimetype": "text/x-python",
   "name": "python",
   "nbconvert_exporter": "python",
   "pygments_lexer": "ipython3",
   "version": "3.7.6-final"
  },
  "orig_nbformat": 2,
  "kernelspec": {
   "name": "python3",
   "display_name": "Python 3"
  }
 },
 "nbformat": 4,
 "nbformat_minor": 2
}