{
 "cells": [
  {
   "cell_type": "code",
   "execution_count": 1,
   "metadata": {},
   "outputs": [],
   "source": [
    "import os\n",
    "import re\n",
    "import numpy as np\n",
    "from skimage.transform import resize, rescale\n",
    "from scipy import ndimage, misc\n",
    "from matplotlib import pyplot\n",
    "import matplotlib.pyplot as plt\n",
    "np.random.seed(0)"
   ]
  },
  {
   "cell_type": "code",
   "execution_count": 2,
   "metadata": {
    "tags": []
   },
   "outputs": [
    {
     "output_type": "stream",
     "name": "stdout",
     "text": "2.1.0\n"
    }
   ],
   "source": [
    "from tensorflow.keras.layers import Conv2D, Dense, Input, MaxPooling2D, Dropout\n",
    "from tensorflow.keras.layers import Conv2DTranspose, UpSampling2D, add\n",
    "from tensorflow.keras.models import Model\n",
    "from tensorflow.keras import regularizers\n",
    "import tensorflow as tf\n",
    "print(tf.__version__)"
   ]
  },
  {
   "cell_type": "code",
   "execution_count": 4,
   "metadata": {},
   "outputs": [],
   "source": [
    "# Enc schema mapping\n",
    "input_data = Input(shape=(256, 256, 3))\n",
    "enc_l1 = Conv2D(32, (3, 3), padding='same', activation='relu', activity_regularizer=regularizers.l1(10e-10))(input_data)\n",
    "enc_l2 = Conv2D(32, (3, 3), padding='same', activation='relu', activity_regularizer=regularizers.l1(10e-10))(enc_l1)\n",
    "enc_l3 = MaxPooling2D(padding='same')(enc_l2)\n",
    "enc_l4 = Conv2D(96, (3, 3), padding='same', activation='relu', activity_regularizer=regularizers.l1(10e-10))(enc_l3)"
   ]
  },
  {
   "cell_type": "code",
   "execution_count": 5,
   "metadata": {},
   "outputs": [],
   "source": [
    "# Alternatively, MaxPooling2D can be redef for verbosity as :\n",
    "# def max_pool_2x2(x):\n",
    "#   return tf.nn.max_pool(x, ksize=[1, 2, 2, 1], strides=[1, 2, 2, 1], padding='SAME')"
   ]
  },
  {
   "cell_type": "code",
   "execution_count": null,
   "metadata": {},
   "outputs": [],
   "source": [
    "# Similarly, conv2D call can be redef for verbosity as :\n",
    "# def conv2D(x, W):\n",
    "#   return tf.nn.conv2d(x, W, strides=[1, 2, 2, 1], padding='SAME')"
   ]
  }
 ],
 "metadata": {
  "language_info": {
   "codemirror_mode": {
    "name": "ipython",
    "version": 3
   },
   "file_extension": ".py",
   "mimetype": "text/x-python",
   "name": "python",
   "nbconvert_exporter": "python",
   "pygments_lexer": "ipython3",
   "version": "3.7.6-final"
  },
  "orig_nbformat": 2,
  "kernelspec": {
   "name": "python3",
   "display_name": "Python 3"
  }
 },
 "nbformat": 4,
 "nbformat_minor": 2
}